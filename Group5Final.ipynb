{
  "nbformat": 4,
  "nbformat_minor": 0,
  "metadata": {
    "colab": {
      "provenance": [],
      "include_colab_link": true
    },
    "kernelspec": {
      "name": "python3",
      "display_name": "Python 3"
    },
    "language_info": {
      "name": "python"
    }
  },
  "cells": [
    {
      "cell_type": "markdown",
      "metadata": {
        "id": "view-in-github",
        "colab_type": "text"
      },
      "source": [
        "<a href=\"https://colab.research.google.com/github/Daliso-Banda/gazette-classifier/blob/main/Group5Final.ipynb\" target=\"_parent\"><img src=\"https://colab.research.google.com/assets/colab-badge.svg\" alt=\"Open In Colab\"/></a>"
      ]
    },
    {
      "cell_type": "markdown",
      "source": [
        "#CSC 4792: Data Mining and Warehousing Group Project\n",
        "\n",
        "\n",
        "\n"
      ],
      "metadata": {
        "id": "gdw3YMaY_Pxj"
      }
    },
    {
      "cell_type": "markdown",
      "source": [
        "##**Project Title**:      Classification of Government Gazette entries by type\n",
        "\n"
      ],
      "metadata": {
        "id": "M193xIk-__1T"
      }
    },
    {
      "cell_type": "markdown",
      "source": [
        "###**Problem Statement**:\n",
        "The Government publishes official notices; these notices span multiple domains , such as legislation, appointments, notices, tenders, and regulations.When published these documents are not placed in categories. Classifying them could be time-consuming when done manually . Our goal here is to create a system that classifies these documents according to the domain they belong to.the system model is aimed at correctly predicting the domain.\n"
      ],
      "metadata": {
        "id": "t1GZfsttCJhG"
      }
    },
    {
      "cell_type": "markdown",
      "source": [
        "###**General Objectives**\n",
        "\n",
        "Our project is to build a machine learning system that takes  Gazette entries and gives the domain to which the document belongs."
      ],
      "metadata": {
        "id": "cPY9Om_zHIAj"
      }
    },
    {
      "cell_type": "markdown",
      "source": [
        "###**Business Objectives**\n",
        "1. Improve efficiency- reduce errors in categorising government Gazettes experienced when done manually.\n",
        "\n",
        "2. Improve Government Gazette accessibility by making it easier to locate specific Gazettes.\n",
        "\n",
        "3. Improve analysis of publication trends to better track government activities."
      ],
      "metadata": {
        "id": "GM1W_G-XYaW7"
      }
    },
    {
      "cell_type": "markdown",
      "source": [
        "###**Data Mininig Goals** ##\n",
        "To achieve our business objectives, we will focus on the following data mining goals:\n",
        "\n",
        "1 Build a Supervised Classification Model: We will develop a model that can\n",
        "automatically assign each Gazette entry to one of several predefined categories such as\n",
        "legislation, appointments, tenders, notices and regulations\n",
        "\n",
        "2 Automate Categorization: Train and deploy the classifier to a production\n",
        "environment where it can handle new, incoming Gazette entries without human\n",
        "intervention."
      ],
      "metadata": {
        "id": "CJ8MmSQ7nney"
      }
    },
    {
      "cell_type": "markdown",
      "source": [
        "###**Initial Project Success Criteria**\n",
        "\n",
        "  We will consider the project a success if it meets the following criteria:\n",
        "  Model Performance: The classification model must achieve a minimum of 80% accuracy.\n",
        "  Balanced Performance: The model must demonstrate balanced precision and recall across all of the predefined categories."
      ],
      "metadata": {
        "id": "ntIq2YoesDI_"
      }
    }
  ]
}